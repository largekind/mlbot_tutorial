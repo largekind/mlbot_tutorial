{
 "cells": [
  {
   "cell_type": "code",
   "execution_count": 5,
   "id": "8ab0fac2-bc06-4b7e-aa2d-af338f283651",
   "metadata": {},
   "outputs": [
    {
     "name": "stdout",
     "output_type": "stream",
     "text": [
      "            timestamp       open       high        low      close    volume\n",
      "0 2023-04-09 13:00:00  3698564.0  3700000.0  3698564.0  3699979.0  0.292906\n"
     ]
    }
   ],
   "source": [
    "import ccxt\n",
    "import pandas as pd\n",
    "\n",
    "# CoincheckのAPIキー情報\n",
    "access_key = 'YOUR_ACCESS_KEY'\n",
    "secret_key = 'YOUR_SECRET_KEY'\n",
    "\n",
    "# 取得したい期間と時間足の指定\n",
    "symbol = 'BTC/JPY'\n",
    "start_date = '2018-01-01'\n",
    "end_date = '2022-04-30'\n",
    "period = '1h'\n",
    "\n",
    "# CoincheckのAPIを取得\n",
    "exchange = ccxt.coincheck({'apiKey': access_key, 'secret': secret_key})\n",
    "\n",
    "# OHLCVデータを取得\n",
    "ohlcv = exchange.fetch_ohlcv(symbol=symbol, timeframe=period, since=exchange.parse8601(start_date), limit=exchange.parse8601(end_date))\n",
    "\n",
    "# 取得したデータをpandas.DataFrameに変換\n",
    "candles = pd.DataFrame(ohlcv, columns=['timestamp', 'open', 'high', 'low', 'close', 'volume'])\n",
    "candles['timestamp'] = pd.to_datetime(candles['timestamp'], unit='ms')\n",
    "\n",
    "# データを確認\n",
    "print(candles)"
   ]
  },
  {
   "cell_type": "code",
   "execution_count": 6,
   "id": "90fb0e6d-8f71-4010-ade9-d3103e35ab50",
   "metadata": {},
   "outputs": [
    {
     "name": "stdout",
     "output_type": "stream",
     "text": [
      "[[1681045200000, 3698564.0, 3700000.0, 3698564.0, 3699979.0, 0.29290586]]\n"
     ]
    }
   ],
   "source": [
    "print(ohlcv)"
   ]
  }
 ],
 "metadata": {
  "kernelspec": {
   "display_name": "Python 3 (ipykernel)",
   "language": "python",
   "name": "python3"
  },
  "language_info": {
   "codemirror_mode": {
    "name": "ipython",
    "version": 3
   },
   "file_extension": ".py",
   "mimetype": "text/x-python",
   "name": "python",
   "nbconvert_exporter": "python",
   "pygments_lexer": "ipython3",
   "version": "3.9.5"
  }
 },
 "nbformat": 4,
 "nbformat_minor": 5
}
